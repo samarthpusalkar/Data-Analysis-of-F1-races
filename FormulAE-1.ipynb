{
 "cells": [
  {
   "cell_type": "markdown",
   "metadata": {
    "id": "l4zai5ix7A-1"
   },
   "source": [
    "#<h1><center>FormulAE - 1</center></h1>\n",
    "#<h1><center>The Racing Analysts!</center></h1>"
   ]
  },
  {
   "cell_type": "markdown",
   "metadata": {
    "id": "Pqe2MLxLvY2E"
   },
   "source": [
    "###Importing all the modules required:"
   ]
  },
  {
   "cell_type": "code",
   "execution_count": 1,
   "metadata": {
    "id": "QNYpl98gRgfj"
   },
   "outputs": [],
   "source": [
    "%matplotlib inline\n",
    "import numpy as np\n",
    "import pandas as pd\n",
    "import matplotlib.pyplot as plt\n",
    "from ipywidgets import interact\n",
    "from scipy.stats import norm,chi2,t\n",
    "from math import sqrt\n",
    "import seaborn as sns"
   ]
  },
  {
   "cell_type": "markdown",
   "metadata": {
    "id": "9epuHtll7Sgs"
   },
   "source": [
    "##In this project, we analyse two random variables from various Formula 1 races, namely\n",
    "\n",
    "\n",
    "*   Average Pitstop time in a race for a particular driver in a race\n",
    "*   Average Laptime in that particular race\n",
    "\n"
   ]
  },
  {
   "cell_type": "markdown",
   "metadata": {
    "id": "-LARRBdRvn5O"
   },
   "source": [
    "##Now, let's take a look at our Raw data, the average Lap times and the average Pitstop times."
   ]
  },
  {
   "cell_type": "code",
   "execution_count": 2,
   "metadata": {
    "colab": {
     "base_uri": "https://localhost:8080/",
     "height": 406
    },
    "id": "Ne-pI0NJRgfn",
    "outputId": "ef234bc0-8010-4afe-f0cc-8d76f5152fa0"
   },
   "outputs": [
    {
     "data": {
      "text/html": [
       "<div>\n",
       "<style scoped>\n",
       "    .dataframe tbody tr th:only-of-type {\n",
       "        vertical-align: middle;\n",
       "    }\n",
       "\n",
       "    .dataframe tbody tr th {\n",
       "        vertical-align: top;\n",
       "    }\n",
       "\n",
       "    .dataframe thead th {\n",
       "        text-align: right;\n",
       "    }\n",
       "</style>\n",
       "<table border=\"1\" class=\"dataframe\">\n",
       "  <thead>\n",
       "    <tr style=\"text-align: right;\">\n",
       "      <th></th>\n",
       "      <th>Unnamed: 0</th>\n",
       "      <th>Race ID</th>\n",
       "      <th>Driver ID</th>\n",
       "      <th>position</th>\n",
       "      <th>avg laptime</th>\n",
       "      <th>Avg Pit Time</th>\n",
       "    </tr>\n",
       "  </thead>\n",
       "  <tbody>\n",
       "    <tr>\n",
       "      <th>0</th>\n",
       "      <td>0</td>\n",
       "      <td>841</td>\n",
       "      <td>1</td>\n",
       "      <td>2.0</td>\n",
       "      <td>92975.103448</td>\n",
       "      <td>23213.000000</td>\n",
       "    </tr>\n",
       "    <tr>\n",
       "      <th>1</th>\n",
       "      <td>1</td>\n",
       "      <td>42</td>\n",
       "      <td>18</td>\n",
       "      <td>12.0</td>\n",
       "      <td>76989.958333</td>\n",
       "      <td>23252.750000</td>\n",
       "    </tr>\n",
       "    <tr>\n",
       "      <th>2</th>\n",
       "      <td>2</td>\n",
       "      <td>842</td>\n",
       "      <td>1</td>\n",
       "      <td>7.0</td>\n",
       "      <td>105531.946429</td>\n",
       "      <td>23252.750000</td>\n",
       "    </tr>\n",
       "    <tr>\n",
       "      <th>3</th>\n",
       "      <td>3</td>\n",
       "      <td>43</td>\n",
       "      <td>18</td>\n",
       "      <td>8.0</td>\n",
       "      <td>78758.357143</td>\n",
       "      <td>20659.333333</td>\n",
       "    </tr>\n",
       "    <tr>\n",
       "      <th>4</th>\n",
       "      <td>4</td>\n",
       "      <td>843</td>\n",
       "      <td>1</td>\n",
       "      <td>1.0</td>\n",
       "      <td>103896.892857</td>\n",
       "      <td>20659.333333</td>\n",
       "    </tr>\n",
       "    <tr>\n",
       "      <th>...</th>\n",
       "      <td>...</td>\n",
       "      <td>...</td>\n",
       "      <td>...</td>\n",
       "      <td>...</td>\n",
       "      <td>...</td>\n",
       "      <td>...</td>\n",
       "    </tr>\n",
       "    <tr>\n",
       "      <th>3921</th>\n",
       "      <td>4097</td>\n",
       "      <td>1052</td>\n",
       "      <td>854</td>\n",
       "      <td>16.0</td>\n",
       "      <td>101830.981818</td>\n",
       "      <td>25570.500000</td>\n",
       "    </tr>\n",
       "    <tr>\n",
       "      <th>3922</th>\n",
       "      <td>4099</td>\n",
       "      <td>1054</td>\n",
       "      <td>854</td>\n",
       "      <td>17.0</td>\n",
       "      <td>88732.046875</td>\n",
       "      <td>23572.666667</td>\n",
       "    </tr>\n",
       "    <tr>\n",
       "      <th>3923</th>\n",
       "      <td>4100</td>\n",
       "      <td>1055</td>\n",
       "      <td>854</td>\n",
       "      <td>18.0</td>\n",
       "      <td>87365.500000</td>\n",
       "      <td>23158.000000</td>\n",
       "    </tr>\n",
       "    <tr>\n",
       "      <th>3924</th>\n",
       "      <td>4101</td>\n",
       "      <td>1056</td>\n",
       "      <td>854</td>\n",
       "      <td>18.0</td>\n",
       "      <td>79684.253333</td>\n",
       "      <td>24797.000000</td>\n",
       "    </tr>\n",
       "    <tr>\n",
       "      <th>3925</th>\n",
       "      <td>4103</td>\n",
       "      <td>1059</td>\n",
       "      <td>854</td>\n",
       "      <td>19.0</td>\n",
       "      <td>101921.288462</td>\n",
       "      <td>31457.000000</td>\n",
       "    </tr>\n",
       "  </tbody>\n",
       "</table>\n",
       "<p>3926 rows × 6 columns</p>\n",
       "</div>"
      ],
      "text/plain": [
       "      Unnamed: 0  Race ID  Driver ID  position    avg laptime  Avg Pit Time\n",
       "0              0      841          1       2.0   92975.103448  23213.000000\n",
       "1              1       42         18      12.0   76989.958333  23252.750000\n",
       "2              2      842          1       7.0  105531.946429  23252.750000\n",
       "3              3       43         18       8.0   78758.357143  20659.333333\n",
       "4              4      843          1       1.0  103896.892857  20659.333333\n",
       "...          ...      ...        ...       ...            ...           ...\n",
       "3921        4097     1052        854      16.0  101830.981818  25570.500000\n",
       "3922        4099     1054        854      17.0   88732.046875  23572.666667\n",
       "3923        4100     1055        854      18.0   87365.500000  23158.000000\n",
       "3924        4101     1056        854      18.0   79684.253333  24797.000000\n",
       "3925        4103     1059        854      19.0  101921.288462  31457.000000\n",
       "\n",
       "[3926 rows x 6 columns]"
      ]
     },
     "execution_count": 2,
     "metadata": {},
     "output_type": "execute_result"
    }
   ],
   "source": [
    "df1=pd.read_csv(\"filtered merged.csv\")\n",
    "df1"
   ]
  },
  {
   "cell_type": "markdown",
   "metadata": {
    "id": "nKWwI28jv6Ov"
   },
   "source": [
    "###Inspecting the basic parameters of our dataset using pandas:"
   ]
  },
  {
   "cell_type": "code",
   "execution_count": 3,
   "metadata": {
    "colab": {
     "base_uri": "https://localhost:8080/",
     "height": 287
    },
    "id": "T9UblffFRgfo",
    "outputId": "3a676091-a7b3-4785-ee83-d0a109b147b3",
    "scrolled": true
   },
   "outputs": [
    {
     "data": {
      "text/html": [
       "<div>\n",
       "<style scoped>\n",
       "    .dataframe tbody tr th:only-of-type {\n",
       "        vertical-align: middle;\n",
       "    }\n",
       "\n",
       "    .dataframe tbody tr th {\n",
       "        vertical-align: top;\n",
       "    }\n",
       "\n",
       "    .dataframe thead th {\n",
       "        text-align: right;\n",
       "    }\n",
       "</style>\n",
       "<table border=\"1\" class=\"dataframe\">\n",
       "  <thead>\n",
       "    <tr style=\"text-align: right;\">\n",
       "      <th></th>\n",
       "      <th>avg laptime</th>\n",
       "      <th>Avg Pit Time</th>\n",
       "    </tr>\n",
       "  </thead>\n",
       "  <tbody>\n",
       "    <tr>\n",
       "      <th>count</th>\n",
       "      <td>3926.000000</td>\n",
       "      <td>3926.000000</td>\n",
       "    </tr>\n",
       "    <tr>\n",
       "      <th>mean</th>\n",
       "      <td>99494.193197</td>\n",
       "      <td>24696.035885</td>\n",
       "    </tr>\n",
       "    <tr>\n",
       "      <th>std</th>\n",
       "      <td>19008.187893</td>\n",
       "      <td>4411.361896</td>\n",
       "    </tr>\n",
       "    <tr>\n",
       "      <th>min</th>\n",
       "      <td>62932.344828</td>\n",
       "      <td>16549.000000</td>\n",
       "    </tr>\n",
       "    <tr>\n",
       "      <th>25%</th>\n",
       "      <td>87230.852046</td>\n",
       "      <td>22085.500000</td>\n",
       "    </tr>\n",
       "    <tr>\n",
       "      <th>50%</th>\n",
       "      <td>99278.283019</td>\n",
       "      <td>23666.500000</td>\n",
       "    </tr>\n",
       "    <tr>\n",
       "      <th>75%</th>\n",
       "      <td>107601.534391</td>\n",
       "      <td>25953.000000</td>\n",
       "    </tr>\n",
       "    <tr>\n",
       "      <th>max</th>\n",
       "      <td>379323.607143</td>\n",
       "      <td>89258.000000</td>\n",
       "    </tr>\n",
       "  </tbody>\n",
       "</table>\n",
       "</div>"
      ],
      "text/plain": [
       "         avg laptime  Avg Pit Time\n",
       "count    3926.000000   3926.000000\n",
       "mean    99494.193197  24696.035885\n",
       "std     19008.187893   4411.361896\n",
       "min     62932.344828  16549.000000\n",
       "25%     87230.852046  22085.500000\n",
       "50%     99278.283019  23666.500000\n",
       "75%    107601.534391  25953.000000\n",
       "max    379323.607143  89258.000000"
      ]
     },
     "execution_count": 3,
     "metadata": {},
     "output_type": "execute_result"
    }
   ],
   "source": [
    "df1.drop(columns=['Unnamed: 0','Race ID','Driver ID','position']).describe()"
   ]
  },
  {
   "cell_type": "markdown",
   "metadata": {
    "id": "4C-AAw3_xoA5"
   },
   "source": [
    "##Now, let's have a closer look at the mean and standard deviation of our data\n",
    "###For the Pitstop times:"
   ]
  },
  {
   "cell_type": "code",
   "execution_count": 4,
   "metadata": {
    "colab": {
     "base_uri": "https://localhost:8080/"
    },
    "id": "qhK3izKkRgfp",
    "outputId": "2fad239b-f128-4de5-d9fb-d6b71e664963"
   },
   "outputs": [
    {
     "name": "stdout",
     "output_type": "stream",
     "text": [
      "The true Mean and Standard deviation of the Pitstop times of the drivers are 24.7 seconds and 4.41 seconds respectively\n"
     ]
    }
   ],
   "source": [
    "truemean=df1['Avg Pit Time'].mean()\n",
    "truestd=df1['Avg Pit Time'].std()\n",
    "print(\"The true Mean and Standard deviation of the Pitstop times of the drivers are {} seconds and {} seconds respectively\".format(round(truemean/1000,2),round(truestd/1000,2)))"
   ]
  },
  {
   "cell_type": "markdown",
   "metadata": {
    "id": "5BUmhZw0y00g"
   },
   "source": [
    "##The histogram plot that can approximate the true distribution of the Pitstop time data is:"
   ]
  },
  {
   "cell_type": "code",
   "execution_count": 5,
   "metadata": {
    "colab": {
     "base_uri": "https://localhost:8080/",
     "height": 294
    },
    "id": "iGYonMemRgfq",
    "outputId": "8643f0d6-3ca4-4efc-8c49-5ae052dfb173"
   },
   "outputs": [
    {
     "data": {
      "image/png": "[encoded data removed]",
      "text/plain": [
       "<Figure size 432x288 with 1 Axes>"
      ]
     },
     "metadata": {
      "needs_background": "light"
     },
     "output_type": "display_data"
    }
   ],
   "source": [
    "df1['Avg Pit Time'].plot.hist(bins=250)\n",
    "plt.xlim(18000,40000);\n",
    "plt.xlabel('Pitstop times in ms');\n",
    "plt.title('Distribution of the Pitstop times');"
   ]
  },
  {
   "cell_type": "markdown",
   "metadata": {
    "id": "idBj5UdPzUDe"
   },
   "source": [
    "###For the Lap times:"
   ]
  },
  {
   "cell_type": "code",
   "execution_count": 6,
   "metadata": {
    "colab": {
     "base_uri": "https://localhost:8080/"
    },
    "id": "AvbjQ9acyB8I",
    "outputId": "823ce81b-68ee-4b08-bd74-efd883d672ac"
   },
   "outputs": [
    {
     "name": "stdout",
     "output_type": "stream",
     "text": [
      "The true Mean and Standard deviation of the Lap times of the drivers are 99.49 seconds and 19.01 seconds respectively\n"
     ]
    }
   ],
   "source": [
    "mean_lap=df1['avg laptime'].mean()\n",
    "std_lap=df1['avg laptime'].std()\n",
    "print(\"The true Mean and Standard deviation of the Lap times of the drivers are {} seconds and {} seconds respectively\".format(round(mean_lap/1000,2),round(std_lap/1000,2)))"
   ]
  },
  {
   "cell_type": "markdown",
   "metadata": {
    "id": "Wh3UwCdgzKwA"
   },
   "source": [
    "##The histogram plot that can approximate the true distribution of the Lap time data is:"
   ]
  },
  {
   "cell_type": "code",
   "execution_count": 7,
   "metadata": {
    "colab": {
     "base_uri": "https://localhost:8080/",
     "height": 294
    },
    "id": "BWBvQf9RRgfq",
    "outputId": "622d6df3-dcec-4581-cede-d5806ea4f1ab"
   },
   "outputs": [
    {
     "data": {
      "image/png": "[encoded data removed]",
      "text/plain": [
       "<Figure size 432x288 with 1 Axes>"
      ]
     },
     "metadata": {
      "needs_background": "light"
     },
     "output_type": "display_data"
    }
   ],
   "source": [
    "plt.hist(df1['avg laptime'],bins=250);\n",
    "plt.xlim(60000,140000);\n",
    "plt.xlabel('Lap times in ms');\n",
    "plt.title('Distribution of the Lap times');"
   ]
  },
  {
   "cell_type": "markdown",
   "metadata": {
    "id": "WcLx63XEzj9M"
   },
   "source": [
    "##The Scatter plot of the two random variables can be obtained as follows:"
   ]
  },
  {
   "cell_type": "code",
   "execution_count": 8,
   "metadata": {
    "colab": {
     "base_uri": "https://localhost:8080/",
     "height": 296
    },
    "id": "UWBmQK0ORgfr",
    "outputId": "f22b5486-6238-4e25-8f74-66bf21e9d88a",
    "scrolled": true
   },
   "outputs": [
    {
     "data": {
      "text/plain": [
       "Text(0, 0.5, 'Average Pitstop times')"
      ]
     },
     "execution_count": 8,
     "metadata": {},
     "output_type": "execute_result"
    },
    {
     "data": {
      "image/png": "[encoded data removed]",
      "text/plain": [
       "<Figure size 432x288 with 1 Axes>"
      ]
     },
     "metadata": {
      "needs_background": "light"
     },
     "output_type": "display_data"
    }
   ],
   "source": [
    "plt.scatter(y = df1['Avg Pit Time'],x = df1['avg laptime'],alpha=0.5);\n",
    "plt.xlabel('Average Laptimes')\n",
    "plt.ylabel('Average Pitstop times')"
   ]
  },
  {
   "cell_type": "markdown",
   "metadata": {
    "id": "Z32R6sMrz2S4"
   },
   "source": [
    "##Let's look at the Joint distribution of the lap times and the pitstop time data using the ```jointplot``` function from ```seaborn```"
   ]
  },
  {
   "cell_type": "code",
   "execution_count": 9,
   "metadata": {
    "colab": {
     "base_uri": "https://localhost:8080/",
     "height": 441
    },
    "id": "4EKgfUrRRgfr",
    "outputId": "19bd1c5d-bdfe-4c44-d17e-b77d5b4409d9"
   },
   "outputs": [
    {
     "data": {
      "image/png": "[encoded data removed]",
      "text/plain": [
       "<Figure size 432x432 with 3 Axes>"
      ]
     },
     "metadata": {
      "needs_background": "light"
     },
     "output_type": "display_data"
    }
   ],
   "source": [
    "g = sns.jointplot(data=df1, x=\"Avg Pit Time\", y=\"avg laptime\", kind=\"hist\",xlim=(15000,45000), ylim=(50000,150000));"
   ]
  },
  {
   "cell_type": "code",
   "execution_count": 10,
   "metadata": {
    "id": "muaQrCzXGmDJ"
   },
   "outputs": [],
   "source": [
    "data=pd.read_csv('filtered merged.csv')\n",
    "data=data.dropna()"
   ]
  },
  {
   "cell_type": "markdown",
   "metadata": {
    "id": "p-79JEri1p6t"
   },
   "source": [
    "###Before generating the sampling distribution of the sample means and variances for our data, let us recall the true parameters.\n",
    "\n",
    "Parameter | Pitstop Times  | Lap times\n",
    "----------|-------------------|------------------\n",
    "Mean      |24.7 seconds  | 99494 seconds\n",
    "Variance |4.41 seconds      | 19008 seconds\n",
    "\n"
   ]
  },
  {
   "cell_type": "markdown",
   "metadata": {
    "id": "Nbr-KuEJ0u5h"
   },
   "source": [
    "##Generating the Sampling distribution of the sample means and variances for the data"
   ]
  },
  {
   "cell_type": "markdown",
   "metadata": {
    "id": "oQ2-yvJ108qb"
   },
   "source": [
    "###Generating the samples for Laptimes:"
   ]
  },
  {
   "cell_type": "code",
   "execution_count": 11,
   "metadata": {
    "id": "jyHItRRdGmDL"
   },
   "outputs": [],
   "source": [
    "means=[]\n",
    "variances=[]\n",
    "stds=[]\n",
    "for i in range(1000):\n",
    "    sample=data['avg laptime'].sample(100,replace=True)\n",
    "    means.append(sample.mean())\n",
    "    variances.append(sample.var())\n",
    "    stds.append(sample.std())\n",
    "    "
   ]
  },
  {
   "cell_type": "markdown",
   "metadata": {
    "id": "XsRKezeB1BMP"
   },
   "source": [
    "##Plot of the sampling distribution for laptimes"
   ]
  },
  {
   "cell_type": "markdown",
   "metadata": {
    "id": "VoihkeyN1VFI"
   },
   "source": [
    "###Mean:"
   ]
  },
  {
   "cell_type": "code",
   "execution_count": 12,
   "metadata": {
    "colab": {
     "base_uri": "https://localhost:8080/",
     "height": 278
    },
    "id": "NPbkT37GGmDL",
    "outputId": "ca506084-482a-4eb9-98e1-d47cc64e8a06"
   },
   "outputs": [
    {
     "data": {
      "image/png": "[encoded data removed]",
      "text/plain": [
       "<Figure size 432x288 with 1 Axes>"
      ]
     },
     "metadata": {
      "needs_background": "light"
     },
     "output_type": "display_data"
    }
   ],
   "source": [
    "plt.hist(means,bins=50)\n",
    "plt.xlabel('Sample Means for Lap times')\n",
    "plt.ylabel('Frequency')\n",
    "plt.show()"
   ]
  },
  {
   "cell_type": "markdown",
   "metadata": {
    "id": "ZmdaDfAI1Zjt"
   },
   "source": [
    "###Variance:"
   ]
  },
  {
   "cell_type": "code",
   "execution_count": 13,
   "metadata": {
    "colab": {
     "base_uri": "https://localhost:8080/",
     "height": 278
    },
    "id": "WhFkP8mMGmDL",
    "outputId": "cfde7a0c-5fc4-4b8b-e190-3f8280ccb24f"
   },
   "outputs": [
    {
     "data": {
      "image/png": "[encoded data removed]",
      "text/plain": [
       "<Figure size 432x288 with 1 Axes>"
      ]
     },
     "metadata": {
      "needs_background": "light"
     },
     "output_type": "display_data"
    }
   ],
   "source": [
    "plt.hist(variances,bins=70)\n",
    "plt.xlabel('Sample Variances for Lap times')\n",
    "plt.ylabel('Frequency')\n",
    "plt.show()"
   ]
  },
  {
   "cell_type": "markdown",
   "metadata": {
    "id": "EajJyUh23-Qj"
   },
   "source": [
    "###Similarly,generating the samples for Pitstop times:"
   ]
  },
  {
   "cell_type": "code",
   "execution_count": 14,
   "metadata": {
    "id": "pbciZUq9GmDM"
   },
   "outputs": [],
   "source": [
    "means_=[]\n",
    "variances_=[]\n",
    "stds_=[]\n",
    "for i in range(1000):\n",
    "    sample=data['Avg Pit Time'].sample(700,replace=True)\n",
    "    means_.append(sample.mean())\n",
    "    variances_.append(sample.var())\n",
    "    stds_.append(sample.std())\n",
    "    "
   ]
  },
  {
   "cell_type": "markdown",
   "metadata": {
    "id": "oQ8QTKh64K3s"
   },
   "source": [
    "##Plot of the sampling distribution for Pitstop times"
   ]
  },
  {
   "cell_type": "markdown",
   "metadata": {
    "id": "y6Sm3Xwe4NOS"
   },
   "source": [
    "###Mean:"
   ]
  },
  {
   "cell_type": "code",
   "execution_count": 15,
   "metadata": {
    "colab": {
     "base_uri": "https://localhost:8080/",
     "height": 278
    },
    "id": "U18chzV7GmDM",
    "outputId": "99df4bb5-788d-481b-e1e6-8b8badaef020"
   },
   "outputs": [
    {
     "data": {
      "image/png": "[encoded data removed]",
      "text/plain": [
       "<Figure size 432x288 with 1 Axes>"
      ]
     },
     "metadata": {
      "needs_background": "light"
     },
     "output_type": "display_data"
    }
   ],
   "source": [
    "plt.hist(means_,bins=70)\n",
    "plt.xlabel('Sample Means for Pitstop times')\n",
    "plt.ylabel('Frequency')\n",
    "plt.show()"
   ]
  },
  {
   "cell_type": "markdown",
   "metadata": {
    "id": "1OJ-3uDt4Z0e"
   },
   "source": [
    "###Variance:"
   ]
  },
  {
   "cell_type": "code",
   "execution_count": 16,
   "metadata": {
    "colab": {
     "base_uri": "https://localhost:8080/",
     "height": 278
    },
    "id": "AGaP6XKzGmDN",
    "outputId": "070833ce-7e62-4897-b662-488bb15c4cbb"
   },
   "outputs": [
    {
     "data": {
      "image/png": "[encoded data removed]",
      "text/plain": [
       "<Figure size 432x288 with 1 Axes>"
      ]
     },
     "metadata": {
      "needs_background": "light"
     },
     "output_type": "display_data"
    }
   ],
   "source": [
    "plt.hist(variances_,bins=50)\n",
    "plt.xlabel('Sample Variances for Pitstop times')\n",
    "plt.ylabel('Frequency')\n",
    "plt.show()"
   ]
  },
  {
   "cell_type": "markdown",
   "metadata": {
    "id": "bt4Gz02B4yVz"
   },
   "source": [
    "###Now that we have plotted the sampling distribution for a specific number of samples, we can advance it further by exploring the sampling distributions when the sample sizes and number of samples can be varied"
   ]
  },
  {
   "cell_type": "code",
   "execution_count": 17,
   "metadata": {
    "id": "DFbj_GEXGmDN"
   },
   "outputs": [],
   "source": [
    "def f(Input,value,sample_size,bins):\n",
    "    mean=[]\n",
    "    variance=[]\n",
    "    std=[]\n",
    "    if Input=='Laptime':\n",
    "        x='avg laptime'\n",
    "    else :\n",
    "        x='Avg Pit Time'\n",
    "    for i in range(1000):\n",
    "        sample=data[x].sample(sample_size,replace=True)\n",
    "        mean.append(sample.mean())\n",
    "        variance.append(sample.var())\n",
    "        std.append(sample.std())\n",
    "    plt.hist(eval(value),bins=bins)\n",
    "    "
   ]
  },
  {
   "cell_type": "code",
   "execution_count": 18,
   "metadata": {
    "colab": {
     "base_uri": "https://localhost:8080/",
     "height": 393,
     "referenced_widgets": [
      "d59b69fd3be04e5ab049834324007e6b",
      "4f2343648073492a9655d87a8a8db945",
      "c5e724691db3466e88df9bbf84aec6c8",
      "c3fe6ce594ba488ab84a5864f5a2a4d3",
      "694f4e0eec0148dfbfe3886c492cc6a4",
      "057f56dd2e9c488fa812cd68ae27625e",
      "eaad08dab8b244d4b26e2317f12b26e0",
      "8495c75be4b84b9c81ad395f4f58b546",
      "297f884431e940af81564441b98a72e9",
      "47d65b56ff264cc4a6e12311a260cbbe",
      "28bf88ed3b7a4c619c41ca32760a89f6",
      "775ae6eec59e4af5bb8bd355db78b1a3",
      "09858135109b43248965d6df8ea1fd96",
      "d414c47d8dc74da5a5fbb446b294e7bd",
      "7a084f57d25643a3b6ef580589661822",
      "58ee041ecc494dd5ae8cb3244e9432aa"
     ]
    },
    "id": "4QsGxVlnGmDN",
    "outputId": "3d28e3f0-d057-4aaf-d3f0-03135c868c2e",
    "scrolled": true
   },
   "outputs": [
    {
     "data": {
      "application/vnd.jupyter.widget-view+json": {
       "model_id": "1a62d5476bd1479fac287b096aea8f2e",
       "version_major": 2,
       "version_minor": 0
      },
      "text/plain": [
       "interactive(children=(Dropdown(description='Input', options=('Laptime', 'Pit Time'), value='Laptime'), Dropdow…"
      ]
     },
     "metadata": {},
     "output_type": "display_data"
    }
   ],
   "source": [
    "interact(f,Input=['Laptime',\"Pit Time\"],value=['mean','variance','std'],sample_size=(1,1000),bins=(1,500));"
   ]
  },
  {
   "cell_type": "markdown",
   "metadata": {
    "id": "z_QY4-A5gJvS"
   },
   "source": [
    "<b>Point and Interval Estimates of Laptime and Pit Time Parameters</b>"
   ]
  },
  {
   "cell_type": "code",
   "execution_count": 19,
   "metadata": {
    "colab": {
     "base_uri": "https://localhost:8080/"
    },
    "id": "H27WQjh3gJvS",
    "outputId": "3623802c-7121-49be-ec6c-40d726900d9f"
   },
   "outputs": [
    {
     "name": "stdout",
     "output_type": "stream",
     "text": [
      "Estimate of MEAN LAPTIME : 99451.32 milliseconds\n",
      "True MEAN LAPTIME : 99494.19 milliseconds\n",
      "Estimate of VARIANCE LAPTIME DATA : 352265074.7 milliseconds\n",
      "True VARIANCE of LAPTIME DATA : 361311206.96 milliseconds\n"
     ]
    }
   ],
   "source": [
    "#POINT ESTMATION OF MEAN AND VARIANCE OF LAPTIME\n",
    "s_means=[]\n",
    "S=[]\n",
    "\n",
    "for i in range(1000):\n",
    "    sample=np.array(data['avg laptime'].sample(100,replace=True))  #making sample\n",
    "    sample_mean=sample.mean()\n",
    "    s_means.append(sample_mean)\n",
    "    sample_S=np.sum(pow(sample-sample_mean,2))/(100-1)  #computing S for sample\n",
    "    S.append(sample_S)\n",
    "print('Estimate of MEAN LAPTIME : {} milliseconds'.format(round(np.mean(s_means),2))) \n",
    "print('True MEAN LAPTIME : {} milliseconds'.format(round(data['avg laptime'].mean(),2))) \n",
    "print('Estimate of VARIANCE LAPTIME DATA : {} milliseconds'.format(round(np.mean(S),2)))  \n",
    "print('True VARIANCE of LAPTIME DATA : {} milliseconds'.format(round(data['avg laptime'].var(),2))) "
   ]
  },
  {
   "cell_type": "code",
   "execution_count": 20,
   "metadata": {
    "colab": {
     "base_uri": "https://localhost:8080/"
    },
    "id": "womXIGa8gJvS",
    "outputId": "2102be0a-707a-4cbf-deea-9cf86aec21be"
   },
   "outputs": [
    {
     "name": "stdout",
     "output_type": "stream",
     "text": [
      "Estimate of MEAN PitStop Time : 24698.98 milliseconds\n",
      "True MEAN PitStop Time : 24696.04 milliseconds\n",
      "Estimate of VARIANCE PitStop Time DATA : 19470026.9 milliseconds\n",
      "True VARIANCE of PitStop Time DATA : 19460113.78 milliseconds\n"
     ]
    }
   ],
   "source": [
    "#POINT ESTMATION OF MEAN AND VARIANCE OF PIT TIME\n",
    "s_means=[]\n",
    "S=[]\n",
    "\n",
    "for i in range(1000):\n",
    "    sample=np.array(data['Avg Pit Time'].sample(100,replace=True))   #making sample\n",
    "    sample_mean=sample.mean()\n",
    "    s_means.append(sample_mean)\n",
    "    sample_S=np.sum(pow(sample-sample_mean,2))/(100-1)            #computing S for sample\n",
    "    S.append(sample_S)\n",
    "print('Estimate of MEAN PitStop Time : {} milliseconds'.format(round(np.mean(s_means),2))) \n",
    "print('True MEAN PitStop Time : {} milliseconds'.format(round(data['Avg Pit Time'].mean(),2))) \n",
    "print('Estimate of VARIANCE PitStop Time DATA : {} milliseconds'.format(round(np.mean(S),2)))  \n",
    "print('True VARIANCE of PitStop Time DATA : {} milliseconds'.format(round(data['Avg Pit Time'].var(),2))) "
   ]
  },
  {
   "cell_type": "code",
   "execution_count": 21,
   "metadata": {
    "id": "m2opWWh_gJvT"
   },
   "outputs": [],
   "source": [
    "#CONFIDENCE INTERVAL ESTIMATION OF MEAN AND VARIANCE \n",
    "\n",
    "def comp_interval(Input,value,sample_size,Conf_level):\n",
    "    if Input=='Laptime':\n",
    "        x='avg laptime'\n",
    "    else :\n",
    "        x='Avg Pit Time'\n",
    "    sample=np.array(data[x].sample(sample_size,replace=True))\n",
    "    if value=='mean':        \n",
    "        mu=data[x].mean()  \n",
    "        x_bar=np.mean(sample)\n",
    "        S=np.std(sample)\n",
    "        t_CI=t(sample_size-1).ppf((1-(Conf_level/100))/2)\n",
    "        cmin,cmax=x_bar+(t_CI*(S/sqrt(sample_size))),x_bar-(t_CI*(S/sqrt(sample_size)))\n",
    "        plt.figure(figsize=(15,5));\n",
    "        plt.hist(sample,bins=200);\n",
    "        plt.vlines([mu,cmin,cmax],0,ymax=[20,15,15],label='true mean',color=['r','y','y']);\n",
    "        plt.legend();\n",
    "        return print('True mean of',Input,' :',mu,'\\n',Conf_level,'% confidence interval : ',[cmin,cmax])\n",
    "    else:\n",
    "        variance=data[x].var() \n",
    "        sample_mean=sample.mean()\n",
    "        S=np.sum(pow(sample-sample_mean,2))/(sample_size-1)\n",
    "        #S=np.var(sample)\n",
    "        alpha=1-(Conf_level/100)\n",
    "        cmax,cmin=(sample_size-1)*(S/chi2(sample_size-1).ppf(alpha/2)),((sample_size-1)*(S/chi2(sample_size-1).ppf(1-(alpha/2))))\n",
    "        return print('True variance of',Input,' :',variance,'\\n',Conf_level,'% confidence interval : ',[cmin,cmax])\n",
    "        \n"
   ]
  },
  {
   "cell_type": "code",
   "execution_count": 22,
   "metadata": {
    "colab": {
     "base_uri": "https://localhost:8080/",
     "height": 483,
     "referenced_widgets": [
      "108111433a244429b453d7ed3bfffa20",
      "1044b6321ba14fb2a40a89627405d3dd",
      "61cbec2658eb44a190257020e29ab3a3",
      "d5faee9b706a4a38b094bf08d8dcccc1",
      "7db33ae4056549999972ad961df70edc",
      "ae0774f9407e4385a2e8db7a698ebf36",
      "d04b1d243cd04a5bb3b621cafbac5f78",
      "b6d4008c6ea04a5980dca237978ebf2d",
      "ae1c664be7e54559b81bb533587ed300",
      "aca6d28330304b59a25994364dace307",
      "d4cf1095646b4aef93d3c8e6f9d92282",
      "9607e78386b7421199492849f33d9afe",
      "d742d80ca7fe47398fad2fe79e83247f",
      "60cdf41d25eb414da6fb447aa00502f0",
      "5a95ceaf384048d091b468f1492789b3",
      "d910b2688a9747b6943202d5562cc2fd"
     ]
    },
    "id": "OTS3pQargJvU",
    "outputId": "c6e13e33-eda9-4491-c380-ec16becdc84b",
    "scrolled": true
   },
   "outputs": [
    {
     "data": {
      "application/vnd.jupyter.widget-view+json": {
       "model_id": "84ed23e04ea54dc29be16245aefe6cd6",
       "version_major": 2,
       "version_minor": 0
      },
      "text/plain": [
       "interactive(children=(Dropdown(description='Input', options=('Laptime', 'Pit Time'), value='Laptime'), Dropdow…"
      ]
     },
     "metadata": {},
     "output_type": "display_data"
    }
   ],
   "source": [
    "interact(comp_interval,Input=['Laptime',\"Pit Time\"],value=['mean','variance'],sample_size=(1,1000),Conf_level=(50,99.9));"
   ]
  },
  {
   "cell_type": "code",
   "execution_count": 23,
   "metadata": {
    "id": "SASBeajSewPL"
   },
   "outputs": [],
   "source": [
    "datanew = df1.drop(columns=['Race ID','Driver ID'])\n",
    "race = df1.groupby(by = 'Race ID')\n",
    "ra841 = race.get_group(841).drop(columns=['Race ID','Driver ID'])"
   ]
  },
  {
   "cell_type": "code",
   "execution_count": 24,
   "metadata": {
    "id": "TQsgaiSsbIh4"
   },
   "outputs": [],
   "source": [
    "x=ra841['avg laptime']\n",
    "y=ra841['Avg Pit Time']\n",
    "coeff=np.polyfit(x,y,1)"
   ]
  },
  {
   "cell_type": "code",
   "execution_count": 25,
   "metadata": {
    "colab": {
     "base_uri": "https://localhost:8080/",
     "height": 278
    },
    "id": "r7rqCoTubIh4",
    "outputId": "00b9d1dc-d69f-4519-8b36-429f7545e2d9"
   },
   "outputs": [
    {
     "name": "stdout",
     "output_type": "stream",
     "text": [
      "Rsq of the fit is 0.030534159243201214\n"
     ]
    },
    {
     "data": {
      "image/png": "[encoded data removed]",
      "text/plain": [
       "<Figure size 432x288 with 1 Axes>"
      ]
     },
     "metadata": {
      "needs_background": "light"
     },
     "output_type": "display_data"
    }
   ],
   "source": [
    "def get_rsq(y, yp):\n",
    "    sse = np.sum((yp - y)**2)\n",
    "    ybar = np.mean(y)\n",
    "    sst = np.sum((y - ybar)**2)\n",
    "    ssr = np.sum((yp - ybar)**2)\n",
    "    #ssr = sst - sse\n",
    "    return ssr/sst\n",
    "y_=coeff[0]*x+coeff[1]\n",
    "plt.plot(x,y_,'r')\n",
    "plt.scatter(x,y);\n",
    "plt.xlabel('Average Laptime for RaceID 841');\n",
    "plt.ylabel('Average Pitstop time for RaceID 841');\n",
    "print(f\"Rsq of the fit is {get_rsq(y,y_)}\")"
   ]
  },
  {
   "cell_type": "code",
   "execution_count": 26,
   "metadata": {
    "id": "mzmTUHA_bIh5"
   },
   "outputs": [],
   "source": [
    "#Plotting linear fit for all the data"
   ]
  },
  {
   "cell_type": "code",
   "execution_count": 27,
   "metadata": {
    "colab": {
     "base_uri": "https://localhost:8080/",
     "height": 278
    },
    "id": "j9uDtVCnbIh5",
    "outputId": "1d625f5f-7d06-4bca-d635-755e3d8c669c"
   },
   "outputs": [
    {
     "name": "stdout",
     "output_type": "stream",
     "text": [
      "Rsq of the fit is 0.05663766973276212\n"
     ]
    },
    {
     "data": {
      "image/png": "[encoded data removed]",
      "text/plain": [
       "<Figure size 432x288 with 1 Axes>"
      ]
     },
     "metadata": {
      "needs_background": "light"
     },
     "output_type": "display_data"
    }
   ],
   "source": [
    "x=data['avg laptime']\n",
    "y=data['Avg Pit Time']\n",
    "coeff=np.polyfit(x,y,1)\n",
    "y_=coeff[0]*x+coeff[1]\n",
    "rsq=get_rsq(y,y_)\n",
    "plt.plot(x,y_,'r',label=r'Fit $(R^2 = %.3f)$' % rsq)\n",
    "plt.scatter(x,y)\n",
    "plt.xlabel('Average Laptime for the whole dataset');\n",
    "plt.ylabel('Average Pitstop time for the whole dataset');\n",
    "print(f\"Rsq of the fit is {rsq}\")"
   ]
  },
  {
   "cell_type": "markdown",
   "metadata": {
    "id": "x9zQCAzUbIh5"
   },
   "source": [
    "Clearly the linear regression fit suggests that the two random variables are not related, moreover we have seen that their \n",
    "correlation is close to 0. This suggests that the random variables are independent which will be proved in the hypothesis \n",
    "testing"
   ]
  },
  {
   "cell_type": "code",
   "execution_count": null,
   "metadata": {
    "id": "MTpVqEoACGfn"
   },
   "outputs": [],
   "source": [
    "from scipy.stats import norm,chi2,t\n",
    "from math import sqrt"
   ]
  },
  {
   "cell_type": "markdown",
   "metadata": {
    "id": "xG8-h9WRCGfy"
   },
   "source": [
    "#  Hypothesis Testing of Significance of Correlation Coefficient"
   ]
  },
  {
   "cell_type": "markdown",
   "metadata": {
    "id": "C67pshUsCGfy"
   },
   "source": [
    "The correlation coefficient,  $r$ , tells us about the strength and direction of the linear relationship between  random variables Pit time and Lapttime. However, the reliability of the linear model also depends on how many observed data points are in the sample. We need to look at both the value of the correlation coefficient  $r$  and the sample size  $n$ , together. We perform a hypothesis test of the \"significance of the correlation coefficient\" to decide whether the linear relationship in the sample data is strong enough to use to model the relationship in the population."
   ]
  },
  {
   "cell_type": "code",
   "execution_count": null,
   "metadata": {
    "id": "Dqm9CRWcCGfy"
   },
   "outputs": [],
   "source": [
    "datanew = data.drop(columns=['Unnamed: 0','position','Race ID','Driver ID']).sample(100,replace=False)"
   ]
  },
  {
   "cell_type": "code",
   "execution_count": null,
   "metadata": {
    "colab": {
     "base_uri": "https://localhost:8080/",
     "height": 107
    },
    "id": "-DL3H9aeCGfy",
    "outputId": "34b5d080-da64-428e-a441-abbf311b45dc"
   },
   "outputs": [],
   "source": [
    "datanew.corr(method= 'pearson')"
   ]
  },
  {
   "cell_type": "code",
   "execution_count": null,
   "metadata": {
    "colab": {
     "base_uri": "https://localhost:8080/"
    },
    "id": "sJy_m4cDCGfy",
    "outputId": "d6712ee8-b467-42ea-a1ef-0125ebeb63a7"
   },
   "outputs": [],
   "source": [
    "print('correlation coefficient :',datanew['Avg Pit Time'].corr(datanew['avg laptime']))"
   ]
  },
  {
   "cell_type": "markdown",
   "metadata": {
    "id": "iLx4w6vyCGfz"
   },
   "source": [
    "$ρ$=  population correlation coefficient (unknown) <br>\n",
    "$r$= 0.1347    <i>sample correlation coefficient (known; calculated from sample data)</i>  <br>\n",
    "$n$= 3926   <i>sample size </i>"
   ]
  },
  {
   "cell_type": "markdown",
   "metadata": {
    "id": "shRp-sizCGfz"
   },
   "source": [
    "<b>PERFORMING HYPOTHESIS</b>"
   ]
  },
  {
   "cell_type": "markdown",
   "metadata": {
    "id": "5YlLkcdLCGfz"
   },
   "source": [
    "<b>Null Hypothesis:         $H_0$:</b>   ρ=0     <br>\n",
    "<b>Alternate Hypothesis:        $H_1$:</b>   ρ≠0 \n",
    "\n",
    "<b> WHAT THE HYPTHESIS MEANS IN WORDS</b>  <br><br>\n",
    "<b>Null Hypothesis: $H_0$:</b>  The population correlation coefficient IS NOT significantly different from zero. There IS NOT a significant linear relationship(correlation) between  Pit time  and Laptime in the population.     <br>\n",
    "<b>Alternate Hypothesis:$H_1$:</b> The population correlation coefficient IS significantly DIFFERENT FROM zero. There IS A SIGNIFICANT LINEAR RELATIONSHIP (correlation) between  Pit time  and  Laptime  in the population. \n",
    "\n"
   ]
  },
  {
   "cell_type": "markdown",
   "metadata": {
    "id": "wcGCelH7CGfz"
   },
   "source": [
    "<b>USING p-VALUE TO MAKE DECISION with SIGNIFICANCE LEVEL 5%</b>"
   ]
  },
  {
   "cell_type": "markdown",
   "metadata": {
    "id": "nUv-R2Q2CGfz"
   },
   "source": [
    "<b>If the  p-value  is less than the significance level ( α=0.05 ):</b><br>\n",
    "\n",
    "Decision: Reject the null hypothesis.<br>\n",
    "Conclusion:There is sufficient evidence to conclude that there is a significant linear relationship between Pit time and  Laptime  because the correlation coefficient is significantly different from zero.<br><br>\n",
    "\n",
    "<b>If the  p-value  is NOT less than the significance level ( α=0.05 )</b><br>\n",
    "Decision: WE FAIL TO REJECT the null hypothesis.<br>\n",
    "Conclusion:There is INSUFFICIENT EVIDENCE to conclude that there is a significant linear relationship between Pit time  and  Laptime because the correlation coefficient is NOT significantly different from zero."
   ]
  },
  {
   "cell_type": "markdown",
   "metadata": {
    "id": "ngcFUP8XCGfz"
   },
   "source": [
    "The  p-value  is calculated using a  t -distribution with  n−2  degrees of freedom.<br>\n",
    "The formula for the test statistic is  $t=\\frac{r\\sqrt{n−2}}{\\sqrt{1−r^2}} $"
   ]
  },
  {
   "cell_type": "code",
   "execution_count": null,
   "metadata": {
    "colab": {
     "base_uri": "https://localhost:8080/"
    },
    "id": "452EnOkeCGf0",
    "outputId": "f58ee14e-d58e-48b7-f88f-25a7b89c0c62"
   },
   "outputs": [],
   "source": [
    "n=int(datanew.count()[0] )   #sample size\n",
    "\n",
    "alpha=0.01   #level of significance\n",
    "r=datanew['Avg Pit Time'].corr(datanew['avg laptime'] )   # correlation ceofficient between Pit time and Laptime data\n",
    "t_bar= (r*sqrt(n-2))/sqrt(1-(r**2))   #test statistic\n",
    "p=2*(1-t(n-2).cdf(t_bar))\n",
    "print('correlation coefficient :',r)\n",
    "print('Value of test statistic is :',t_bar)\n",
    "print('Corresponding p value is :',p)\n",
    "if p<alpha:\n",
    "    print('\\nResult : p < α \\nHence, we REJECT the null hypothesis')\n",
    "else:\n",
    "    print('\\nResult : p > α \\nHence, we FAIL TO REJECT the null hypothesis')   \n"
   ]
  },
  {
   "cell_type": "markdown",
   "metadata": {
    "id": "fcZvXVZsCGf0"
   },
   "source": [
    "Therefore,There is sufficient statistical evidence at the α=0.05 level to conclude that <b>there need not be significant linear relationship between Lap times and Pit times.<b>"
   ]
  },
  {
   "cell_type": "markdown",
   "metadata": {
    "id": "xsGiczl8CGf0"
   },
   "source": [
    "This is in accordance with what is expected."
   ]
  }
 ],
 "metadata": {
  "colab": {
   "collapsed_sections": [],
   "name": "with_regress.ipynb",
   "provenance": []
  },
  "kernelspec": {
   "display_name": "Python 3",
   "language": "python",
   "name": "python3"
  },
  "language_info": {
   "codemirror_mode": {
    "name": "ipython",
    "version": 3
   },
   "file_extension": ".py",
   "mimetype": "text/x-python",
   "name": "python",
   "nbconvert_exporter": "python",
   "pygments_lexer": "ipython3",
   "version": "3.8.5"
  },
  "widgets": {
   "application/vnd.jupyter.widget-state+json": {
    "057f56dd2e9c488fa812cd68ae27625e": {
     "model_module": "@jupyter-widgets/controls",
     "model_name": "IntSliderModel",
     "state": {
      "_dom_classes": [],
      "_model_module": "@jupyter-widgets/controls",
      "_model_module_version": "1.5.0",
      "_model_name": "IntSliderModel",
      "_view_count": null,
      "_view_module": "@jupyter-widgets/controls",
      "_view_module_version": "1.5.0",
      "_view_name": "IntSliderView",
      "continuous_update": true,
      "description": "bins",
      "description_tooltip": null,
      "disabled": false,
      "layout": "IPY_MODEL_7a084f57d25643a3b6ef580589661822",
      "max": 500,
      "min": 1,
      "orientation": "horizontal",
      "readout": true,
      "readout_format": "d",
      "step": 1,
      "style": "IPY_MODEL_d414c47d8dc74da5a5fbb446b294e7bd",
      "value": 250
     }
    },
    "09858135109b43248965d6df8ea1fd96": {
     "model_module": "@jupyter-widgets/base",
     "model_name": "LayoutModel",
     "state": {
      "_model_module": "@jupyter-widgets/base",
      "_model_module_version": "1.2.0",
      "_model_name": "LayoutModel",
      "_view_count": null,
      "_view_module": "@jupyter-widgets/base",
      "_view_module_version": "1.2.0",
      "_view_name": "LayoutView",
      "align_content": null,
      "align_items": null,
      "align_self": null,
      "border": null,
      "bottom": null,
      "display": null,
      "flex": null,
      "flex_flow": null,
      "grid_area": null,
      "grid_auto_columns": null,
      "grid_auto_flow": null,
      "grid_auto_rows": null,
      "grid_column": null,
      "grid_gap": null,
      "grid_row": null,
      "grid_template_areas": null,
      "grid_template_columns": null,
      "grid_template_rows": null,
      "height": null,
      "justify_content": null,
      "justify_items": null,
      "left": null,
      "margin": null,
      "max_height": null,
      "max_width": null,
      "min_height": null,
      "min_width": null,
      "object_fit": null,
      "object_position": null,
      "order": null,
      "overflow": null,
      "overflow_x": null,
      "overflow_y": null,
      "padding": null,
      "right": null,
      "top": null,
      "visibility": null,
      "width": null
     }
    },
    "1044b6321ba14fb2a40a89627405d3dd": {
     "model_module": "@jupyter-widgets/base",
     "model_name": "LayoutModel",
     "state": {
      "_model_module": "@jupyter-widgets/base",
      "_model_module_version": "1.2.0",
      "_model_name": "LayoutModel",
      "_view_count": null,
      "_view_module": "@jupyter-widgets/base",
      "_view_module_version": "1.2.0",
      "_view_name": "LayoutView",
      "align_content": null,
      "align_items": null,
      "align_self": null,
      "border": null,
      "bottom": null,
      "display": null,
      "flex": null,
      "flex_flow": null,
      "grid_area": null,
      "grid_auto_columns": null,
      "grid_auto_flow": null,
      "grid_auto_rows": null,
      "grid_column": null,
      "grid_gap": null,
      "grid_row": null,
      "grid_template_areas": null,
      "grid_template_columns": null,
      "grid_template_rows": null,
      "height": null,
      "justify_content": null,
      "justify_items": null,
      "left": null,
      "margin": null,
      "max_height": null,
      "max_width": null,
      "min_height": null,
      "min_width": null,
      "object_fit": null,
      "object_position": null,
      "order": null,
      "overflow": null,
      "overflow_x": null,
      "overflow_y": null,
      "padding": null,
      "right": null,
      "top": null,
      "visibility": null,
      "width": null
     }
    },
    "108111433a244429b453d7ed3bfffa20": {
     "model_module": "@jupyter-widgets/controls",
     "model_name": "VBoxModel",
     "state": {
      "_dom_classes": [
       "widget-interact"
      ],
      "_model_module": "@jupyter-widgets/controls",
      "_model_module_version": "1.5.0",
      "_model_name": "VBoxModel",
      "_view_count": null,
      "_view_module": "@jupyter-widgets/controls",
      "_view_module_version": "1.5.0",
      "_view_name": "VBoxView",
      "box_style": "",
      "children": [
       "IPY_MODEL_61cbec2658eb44a190257020e29ab3a3",
       "IPY_MODEL_d5faee9b706a4a38b094bf08d8dcccc1",
       "IPY_MODEL_7db33ae4056549999972ad961df70edc",
       "IPY_MODEL_ae0774f9407e4385a2e8db7a698ebf36",
       "IPY_MODEL_d04b1d243cd04a5bb3b621cafbac5f78"
      ],
      "layout": "IPY_MODEL_1044b6321ba14fb2a40a89627405d3dd"
     }
    },
    "28bf88ed3b7a4c619c41ca32760a89f6": {
     "model_module": "@jupyter-widgets/base",
     "model_name": "LayoutModel",
     "state": {
      "_model_module": "@jupyter-widgets/base",
      "_model_module_version": "1.2.0",
      "_model_name": "LayoutModel",
      "_view_count": null,
      "_view_module": "@jupyter-widgets/base",
      "_view_module_version": "1.2.0",
      "_view_name": "LayoutView",
      "align_content": null,
      "align_items": null,
      "align_self": null,
      "border": null,
      "bottom": null,
      "display": null,
      "flex": null,
      "flex_flow": null,
      "grid_area": null,
      "grid_auto_columns": null,
      "grid_auto_flow": null,
      "grid_auto_rows": null,
      "grid_column": null,
      "grid_gap": null,
      "grid_row": null,
      "grid_template_areas": null,
      "grid_template_columns": null,
      "grid_template_rows": null,
      "height": null,
      "justify_content": null,
      "justify_items": null,
      "left": null,
      "margin": null,
      "max_height": null,
      "max_width": null,
      "min_height": null,
      "min_width": null,
      "object_fit": null,
      "object_position": null,
      "order": null,
      "overflow": null,
      "overflow_x": null,
      "overflow_y": null,
      "padding": null,
      "right": null,
      "top": null,
      "visibility": null,
      "width": null
     }
    },
    "297f884431e940af81564441b98a72e9": {
     "model_module": "@jupyter-widgets/base",
     "model_name": "LayoutModel",
     "state": {
      "_model_module": "@jupyter-widgets/base",
      "_model_module_version": "1.2.0",
      "_model_name": "LayoutModel",
      "_view_count": null,
      "_view_module": "@jupyter-widgets/base",
      "_view_module_version": "1.2.0",
      "_view_name": "LayoutView",
      "align_content": null,
      "align_items": null,
      "align_self": null,
      "border": null,
      "bottom": null,
      "display": null,
      "flex": null,
      "flex_flow": null,
      "grid_area": null,
      "grid_auto_columns": null,
      "grid_auto_flow": null,
      "grid_auto_rows": null,
      "grid_column": null,
      "grid_gap": null,
      "grid_row": null,
      "grid_template_areas": null,
      "grid_template_columns": null,
      "grid_template_rows": null,
      "height": null,
      "justify_content": null,
      "justify_items": null,
      "left": null,
      "margin": null,
      "max_height": null,
      "max_width": null,
      "min_height": null,
      "min_width": null,
      "object_fit": null,
      "object_position": null,
      "order": null,
      "overflow": null,
      "overflow_x": null,
      "overflow_y": null,
      "padding": null,
      "right": null,
      "top": null,
      "visibility": null,
      "width": null
     }
    },
    "47d65b56ff264cc4a6e12311a260cbbe": {
     "model_module": "@jupyter-widgets/controls",
     "model_name": "DescriptionStyleModel",
     "state": {
      "_model_module": "@jupyter-widgets/controls",
      "_model_module_version": "1.5.0",
      "_model_name": "DescriptionStyleModel",
      "_view_count": null,
      "_view_module": "@jupyter-widgets/base",
      "_view_module_version": "1.2.0",
      "_view_name": "StyleView",
      "description_width": ""
     }
    },
    "4f2343648073492a9655d87a8a8db945": {
     "model_module": "@jupyter-widgets/base",
     "model_name": "LayoutModel",
     "state": {
      "_model_module": "@jupyter-widgets/base",
      "_model_module_version": "1.2.0",
      "_model_name": "LayoutModel",
      "_view_count": null,
      "_view_module": "@jupyter-widgets/base",
      "_view_module_version": "1.2.0",
      "_view_name": "LayoutView",
      "align_content": null,
      "align_items": null,
      "align_self": null,
      "border": null,
      "bottom": null,
      "display": null,
      "flex": null,
      "flex_flow": null,
      "grid_area": null,
      "grid_auto_columns": null,
      "grid_auto_flow": null,
      "grid_auto_rows": null,
      "grid_column": null,
      "grid_gap": null,
      "grid_row": null,
      "grid_template_areas": null,
      "grid_template_columns": null,
      "grid_template_rows": null,
      "height": null,
      "justify_content": null,
      "justify_items": null,
      "left": null,
      "margin": null,
      "max_height": null,
      "max_width": null,
      "min_height": null,
      "min_width": null,
      "object_fit": null,
      "object_position": null,
      "order": null,
      "overflow": null,
      "overflow_x": null,
      "overflow_y": null,
      "padding": null,
      "right": null,
      "top": null,
      "visibility": null,
      "width": null
     }
    },
    "58ee041ecc494dd5ae8cb3244e9432aa": {
     "model_module": "@jupyter-widgets/base",
     "model_name": "LayoutModel",
     "state": {
      "_model_module": "@jupyter-widgets/base",
      "_model_module_version": "1.2.0",
      "_model_name": "LayoutModel",
      "_view_count": null,
      "_view_module": "@jupyter-widgets/base",
      "_view_module_version": "1.2.0",
      "_view_name": "LayoutView",
      "align_content": null,
      "align_items": null,
      "align_self": null,
      "border": null,
      "bottom": null,
      "display": null,
      "flex": null,
      "flex_flow": null,
      "grid_area": null,
      "grid_auto_columns": null,
      "grid_auto_flow": null,
      "grid_auto_rows": null,
      "grid_column": null,
      "grid_gap": null,
      "grid_row": null,
      "grid_template_areas": null,
      "grid_template_columns": null,
      "grid_template_rows": null,
      "height": null,
      "justify_content": null,
      "justify_items": null,
      "left": null,
      "margin": null,
      "max_height": null,
      "max_width": null,
      "min_height": null,
      "min_width": null,
      "object_fit": null,
      "object_position": null,
      "order": null,
      "overflow": null,
      "overflow_x": null,
      "overflow_y": null,
      "padding": null,
      "right": null,
      "top": null,
      "visibility": null,
      "width": null
     }
    },
    "5a95ceaf384048d091b468f1492789b3": {
     "model_module": "@jupyter-widgets/base",
     "model_name": "LayoutModel",
     "state": {
      "_model_module": "@jupyter-widgets/base",
      "_model_module_version": "1.2.0",
      "_model_name": "LayoutModel",
      "_view_count": null,
      "_view_module": "@jupyter-widgets/base",
      "_view_module_version": "1.2.0",
      "_view_name": "LayoutView",
      "align_content": null,
      "align_items": null,
      "align_self": null,
      "border": null,
      "bottom": null,
      "display": null,
      "flex": null,
      "flex_flow": null,
      "grid_area": null,
      "grid_auto_columns": null,
      "grid_auto_flow": null,
      "grid_auto_rows": null,
      "grid_column": null,
      "grid_gap": null,
      "grid_row": null,
      "grid_template_areas": null,
      "grid_template_columns": null,
      "grid_template_rows": null,
      "height": null,
      "justify_content": null,
      "justify_items": null,
      "left": null,
      "margin": null,
      "max_height": null,
      "max_width": null,
      "min_height": null,
      "min_width": null,
      "object_fit": null,
      "object_position": null,
      "order": null,
      "overflow": null,
      "overflow_x": null,
      "overflow_y": null,
      "padding": null,
      "right": null,
      "top": null,
      "visibility": null,
      "width": null
     }
    },
    "60cdf41d25eb414da6fb447aa00502f0": {
     "model_module": "@jupyter-widgets/controls",
     "model_name": "SliderStyleModel",
     "state": {
      "_model_module": "@jupyter-widgets/controls",
      "_model_module_version": "1.5.0",
      "_model_name": "SliderStyleModel",
      "_view_count": null,
      "_view_module": "@jupyter-widgets/base",
      "_view_module_version": "1.2.0",
      "_view_name": "StyleView",
      "description_width": "",
      "handle_color": null
     }
    },
    "61cbec2658eb44a190257020e29ab3a3": {
     "model_module": "@jupyter-widgets/controls",
     "model_name": "DropdownModel",
     "state": {
      "_dom_classes": [],
      "_model_module": "@jupyter-widgets/controls",
      "_model_module_version": "1.5.0",
      "_model_name": "DropdownModel",
      "_options_labels": [
       "Laptime",
       "Pit Time"
      ],
      "_view_count": null,
      "_view_module": "@jupyter-widgets/controls",
      "_view_module_version": "1.5.0",
      "_view_name": "DropdownView",
      "description": "Input",
      "description_tooltip": null,
      "disabled": false,
      "index": 0,
      "layout": "IPY_MODEL_ae1c664be7e54559b81bb533587ed300",
      "style": "IPY_MODEL_b6d4008c6ea04a5980dca237978ebf2d"
     }
    },
    "694f4e0eec0148dfbfe3886c492cc6a4": {
     "model_module": "@jupyter-widgets/controls",
     "model_name": "IntSliderModel",
     "state": {
      "_dom_classes": [],
      "_model_module": "@jupyter-widgets/controls",
      "_model_module_version": "1.5.0",
      "_model_name": "IntSliderModel",
      "_view_count": null,
      "_view_module": "@jupyter-widgets/controls",
      "_view_module_version": "1.5.0",
      "_view_name": "IntSliderView",
      "continuous_update": true,
      "description": "sample_size",
      "description_tooltip": null,
      "disabled": false,
      "layout": "IPY_MODEL_09858135109b43248965d6df8ea1fd96",
      "max": 1000,
      "min": 1,
      "orientation": "horizontal",
      "readout": true,
      "readout_format": "d",
      "step": 1,
      "style": "IPY_MODEL_775ae6eec59e4af5bb8bd355db78b1a3",
      "value": 500
     }
    },
    "775ae6eec59e4af5bb8bd355db78b1a3": {
     "model_module": "@jupyter-widgets/controls",
     "model_name": "SliderStyleModel",
     "state": {
      "_model_module": "@jupyter-widgets/controls",
      "_model_module_version": "1.5.0",
      "_model_name": "SliderStyleModel",
      "_view_count": null,
      "_view_module": "@jupyter-widgets/base",
      "_view_module_version": "1.2.0",
      "_view_name": "StyleView",
      "description_width": "",
      "handle_color": null
     }
    },
    "7a084f57d25643a3b6ef580589661822": {
     "model_module": "@jupyter-widgets/base",
     "model_name": "LayoutModel",
     "state": {
      "_model_module": "@jupyter-widgets/base",
      "_model_module_version": "1.2.0",
      "_model_name": "LayoutModel",
      "_view_count": null,
      "_view_module": "@jupyter-widgets/base",
      "_view_module_version": "1.2.0",
      "_view_name": "LayoutView",
      "align_content": null,
      "align_items": null,
      "align_self": null,
      "border": null,
      "bottom": null,
      "display": null,
      "flex": null,
      "flex_flow": null,
      "grid_area": null,
      "grid_auto_columns": null,
      "grid_auto_flow": null,
      "grid_auto_rows": null,
      "grid_column": null,
      "grid_gap": null,
      "grid_row": null,
      "grid_template_areas": null,
      "grid_template_columns": null,
      "grid_template_rows": null,
      "height": null,
      "justify_content": null,
      "justify_items": null,
      "left": null,
      "margin": null,
      "max_height": null,
      "max_width": null,
      "min_height": null,
      "min_width": null,
      "object_fit": null,
      "object_position": null,
      "order": null,
      "overflow": null,
      "overflow_x": null,
      "overflow_y": null,
      "padding": null,
      "right": null,
      "top": null,
      "visibility": null,
      "width": null
     }
    },
    "7db33ae4056549999972ad961df70edc": {
     "model_module": "@jupyter-widgets/controls",
     "model_name": "IntSliderModel",
     "state": {
      "_dom_classes": [],
      "_model_module": "@jupyter-widgets/controls",
      "_model_module_version": "1.5.0",
      "_model_name": "IntSliderModel",
      "_view_count": null,
      "_view_module": "@jupyter-widgets/controls",
      "_view_module_version": "1.5.0",
      "_view_name": "IntSliderView",
      "continuous_update": true,
      "description": "sample_size",
      "description_tooltip": null,
      "disabled": false,
      "layout": "IPY_MODEL_d742d80ca7fe47398fad2fe79e83247f",
      "max": 1000,
      "min": 1,
      "orientation": "horizontal",
      "readout": true,
      "readout_format": "d",
      "step": 1,
      "style": "IPY_MODEL_9607e78386b7421199492849f33d9afe",
      "value": 500
     }
    },
    "8495c75be4b84b9c81ad395f4f58b546": {
     "model_module": "@jupyter-widgets/controls",
     "model_name": "DescriptionStyleModel",
     "state": {
      "_model_module": "@jupyter-widgets/controls",
      "_model_module_version": "1.5.0",
      "_model_name": "DescriptionStyleModel",
      "_view_count": null,
      "_view_module": "@jupyter-widgets/base",
      "_view_module_version": "1.2.0",
      "_view_name": "StyleView",
      "description_width": ""
     }
    },
    "9607e78386b7421199492849f33d9afe": {
     "model_module": "@jupyter-widgets/controls",
     "model_name": "SliderStyleModel",
     "state": {
      "_model_module": "@jupyter-widgets/controls",
      "_model_module_version": "1.5.0",
      "_model_name": "SliderStyleModel",
      "_view_count": null,
      "_view_module": "@jupyter-widgets/base",
      "_view_module_version": "1.2.0",
      "_view_name": "StyleView",
      "description_width": "",
      "handle_color": null
     }
    },
    "aca6d28330304b59a25994364dace307": {
     "model_module": "@jupyter-widgets/controls",
     "model_name": "DescriptionStyleModel",
     "state": {
      "_model_module": "@jupyter-widgets/controls",
      "_model_module_version": "1.5.0",
      "_model_name": "DescriptionStyleModel",
      "_view_count": null,
      "_view_module": "@jupyter-widgets/base",
      "_view_module_version": "1.2.0",
      "_view_name": "StyleView",
      "description_width": ""
     }
    },
    "ae0774f9407e4385a2e8db7a698ebf36": {
     "model_module": "@jupyter-widgets/controls",
     "model_name": "FloatSliderModel",
     "state": {
      "_dom_classes": [],
      "_model_module": "@jupyter-widgets/controls",
      "_model_module_version": "1.5.0",
      "_model_name": "FloatSliderModel",
      "_view_count": null,
      "_view_module": "@jupyter-widgets/controls",
      "_view_module_version": "1.5.0",
      "_view_name": "FloatSliderView",
      "continuous_update": true,
      "description": "Conf_level",
      "description_tooltip": null,
      "disabled": false,
      "layout": "IPY_MODEL_5a95ceaf384048d091b468f1492789b3",
      "max": 99.9,
      "min": 50,
      "orientation": "horizontal",
      "readout": true,
      "readout_format": ".2f",
      "step": 0.1,
      "style": "IPY_MODEL_60cdf41d25eb414da6fb447aa00502f0",
      "value": 74.95
     }
    },
    "ae1c664be7e54559b81bb533587ed300": {
     "model_module": "@jupyter-widgets/base",
     "model_name": "LayoutModel",
     "state": {
      "_model_module": "@jupyter-widgets/base",
      "_model_module_version": "1.2.0",
      "_model_name": "LayoutModel",
      "_view_count": null,
      "_view_module": "@jupyter-widgets/base",
      "_view_module_version": "1.2.0",
      "_view_name": "LayoutView",
      "align_content": null,
      "align_items": null,
      "align_self": null,
      "border": null,
      "bottom": null,
      "display": null,
      "flex": null,
      "flex_flow": null,
      "grid_area": null,
      "grid_auto_columns": null,
      "grid_auto_flow": null,
      "grid_auto_rows": null,
      "grid_column": null,
      "grid_gap": null,
      "grid_row": null,
      "grid_template_areas": null,
      "grid_template_columns": null,
      "grid_template_rows": null,
      "height": null,
      "justify_content": null,
      "justify_items": null,
      "left": null,
      "margin": null,
      "max_height": null,
      "max_width": null,
      "min_height": null,
      "min_width": null,
      "object_fit": null,
      "object_position": null,
      "order": null,
      "overflow": null,
      "overflow_x": null,
      "overflow_y": null,
      "padding": null,
      "right": null,
      "top": null,
      "visibility": null,
      "width": null
     }
    },
    "b6d4008c6ea04a5980dca237978ebf2d": {
     "model_module": "@jupyter-widgets/controls",
     "model_name": "DescriptionStyleModel",
     "state": {
      "_model_module": "@jupyter-widgets/controls",
      "_model_module_version": "1.5.0",
      "_model_name": "DescriptionStyleModel",
      "_view_count": null,
      "_view_module": "@jupyter-widgets/base",
      "_view_module_version": "1.2.0",
      "_view_name": "StyleView",
      "description_width": ""
     }
    },
    "c3fe6ce594ba488ab84a5864f5a2a4d3": {
     "model_module": "@jupyter-widgets/controls",
     "model_name": "DropdownModel",
     "state": {
      "_dom_classes": [],
      "_model_module": "@jupyter-widgets/controls",
      "_model_module_version": "1.5.0",
      "_model_name": "DropdownModel",
      "_options_labels": [
       "mean",
       "variance",
       "std"
      ],
      "_view_count": null,
      "_view_module": "@jupyter-widgets/controls",
      "_view_module_version": "1.5.0",
      "_view_name": "DropdownView",
      "description": "value",
      "description_tooltip": null,
      "disabled": false,
      "index": 0,
      "layout": "IPY_MODEL_28bf88ed3b7a4c619c41ca32760a89f6",
      "style": "IPY_MODEL_47d65b56ff264cc4a6e12311a260cbbe"
     }
    },
    "c5e724691db3466e88df9bbf84aec6c8": {
     "model_module": "@jupyter-widgets/controls",
     "model_name": "DropdownModel",
     "state": {
      "_dom_classes": [],
      "_model_module": "@jupyter-widgets/controls",
      "_model_module_version": "1.5.0",
      "_model_name": "DropdownModel",
      "_options_labels": [
       "Laptime",
       "Pit Time"
      ],
      "_view_count": null,
      "_view_module": "@jupyter-widgets/controls",
      "_view_module_version": "1.5.0",
      "_view_name": "DropdownView",
      "description": "Input",
      "description_tooltip": null,
      "disabled": false,
      "index": 0,
      "layout": "IPY_MODEL_297f884431e940af81564441b98a72e9",
      "style": "IPY_MODEL_8495c75be4b84b9c81ad395f4f58b546"
     }
    },
    "d04b1d243cd04a5bb3b621cafbac5f78": {
     "model_module": "@jupyter-widgets/output",
     "model_name": "OutputModel",
     "state": {
      "_dom_classes": [],
      "_model_module": "@jupyter-widgets/output",
      "_model_module_version": "1.0.0",
      "_model_name": "OutputModel",
      "_view_count": null,
      "_view_module": "@jupyter-widgets/output",
      "_view_module_version": "1.0.0",
      "_view_name": "OutputView",
      "layout": "IPY_MODEL_d910b2688a9747b6943202d5562cc2fd",
      "msg_id": "",
      "outputs": [
       {
        "metadata": {
         "tags": []
        },
        "output_type": "stream",
        "stream": "stdout",
        "text": "True mean of Laptime  : 99494.19319722841 \n 74.95 % confidence interval :  [98217.262648222, 100039.04366364072]\n"
       },
       {
        "image/png": "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\n",
        "metadata": {
         "needs_background": "light",
         "tags": []
        },
        "output_type": "display_data",
        "text/plain": "<Figure size 1080x360 with 1 Axes>"
       }
      ]
     }
    },
    "d414c47d8dc74da5a5fbb446b294e7bd": {
     "model_module": "@jupyter-widgets/controls",
     "model_name": "SliderStyleModel",
     "state": {
      "_model_module": "@jupyter-widgets/controls",
      "_model_module_version": "1.5.0",
      "_model_name": "SliderStyleModel",
      "_view_count": null,
      "_view_module": "@jupyter-widgets/base",
      "_view_module_version": "1.2.0",
      "_view_name": "StyleView",
      "description_width": "",
      "handle_color": null
     }
    },
    "d4cf1095646b4aef93d3c8e6f9d92282": {
     "model_module": "@jupyter-widgets/base",
     "model_name": "LayoutModel",
     "state": {
      "_model_module": "@jupyter-widgets/base",
      "_model_module_version": "1.2.0",
      "_model_name": "LayoutModel",
      "_view_count": null,
      "_view_module": "@jupyter-widgets/base",
      "_view_module_version": "1.2.0",
      "_view_name": "LayoutView",
      "align_content": null,
      "align_items": null,
      "align_self": null,
      "border": null,
      "bottom": null,
      "display": null,
      "flex": null,
      "flex_flow": null,
      "grid_area": null,
      "grid_auto_columns": null,
      "grid_auto_flow": null,
      "grid_auto_rows": null,
      "grid_column": null,
      "grid_gap": null,
      "grid_row": null,
      "grid_template_areas": null,
      "grid_template_columns": null,
      "grid_template_rows": null,
      "height": null,
      "justify_content": null,
      "justify_items": null,
      "left": null,
      "margin": null,
      "max_height": null,
      "max_width": null,
      "min_height": null,
      "min_width": null,
      "object_fit": null,
      "object_position": null,
      "order": null,
      "overflow": null,
      "overflow_x": null,
      "overflow_y": null,
      "padding": null,
      "right": null,
      "top": null,
      "visibility": null,
      "width": null
     }
    },
    "d59b69fd3be04e5ab049834324007e6b": {
     "model_module": "@jupyter-widgets/controls",
     "model_name": "VBoxModel",
     "state": {
      "_dom_classes": [
       "widget-interact"
      ],
      "_model_module": "@jupyter-widgets/controls",
      "_model_module_version": "1.5.0",
      "_model_name": "VBoxModel",
      "_view_count": null,
      "_view_module": "@jupyter-widgets/controls",
      "_view_module_version": "1.5.0",
      "_view_name": "VBoxView",
      "box_style": "",
      "children": [
       "IPY_MODEL_c5e724691db3466e88df9bbf84aec6c8",
       "IPY_MODEL_c3fe6ce594ba488ab84a5864f5a2a4d3",
       "IPY_MODEL_694f4e0eec0148dfbfe3886c492cc6a4",
       "IPY_MODEL_057f56dd2e9c488fa812cd68ae27625e",
       "IPY_MODEL_eaad08dab8b244d4b26e2317f12b26e0"
      ],
      "layout": "IPY_MODEL_4f2343648073492a9655d87a8a8db945"
     }
    },
    "d5faee9b706a4a38b094bf08d8dcccc1": {
     "model_module": "@jupyter-widgets/controls",
     "model_name": "DropdownModel",
     "state": {
      "_dom_classes": [],
      "_model_module": "@jupyter-widgets/controls",
      "_model_module_version": "1.5.0",
      "_model_name": "DropdownModel",
      "_options_labels": [
       "mean",
       "variance"
      ],
      "_view_count": null,
      "_view_module": "@jupyter-widgets/controls",
      "_view_module_version": "1.5.0",
      "_view_name": "DropdownView",
      "description": "value",
      "description_tooltip": null,
      "disabled": false,
      "index": 0,
      "layout": "IPY_MODEL_d4cf1095646b4aef93d3c8e6f9d92282",
      "style": "IPY_MODEL_aca6d28330304b59a25994364dace307"
     }
    },
    "d742d80ca7fe47398fad2fe79e83247f": {
     "model_module": "@jupyter-widgets/base",
     "model_name": "LayoutModel",
     "state": {
      "_model_module": "@jupyter-widgets/base",
      "_model_module_version": "1.2.0",
      "_model_name": "LayoutModel",
      "_view_count": null,
      "_view_module": "@jupyter-widgets/base",
      "_view_module_version": "1.2.0",
      "_view_name": "LayoutView",
      "align_content": null,
      "align_items": null,
      "align_self": null,
      "border": null,
      "bottom": null,
      "display": null,
      "flex": null,
      "flex_flow": null,
      "grid_area": null,
      "grid_auto_columns": null,
      "grid_auto_flow": null,
      "grid_auto_rows": null,
      "grid_column": null,
      "grid_gap": null,
      "grid_row": null,
      "grid_template_areas": null,
      "grid_template_columns": null,
      "grid_template_rows": null,
      "height": null,
      "justify_content": null,
      "justify_items": null,
      "left": null,
      "margin": null,
      "max_height": null,
      "max_width": null,
      "min_height": null,
      "min_width": null,
      "object_fit": null,
      "object_position": null,
      "order": null,
      "overflow": null,
      "overflow_x": null,
      "overflow_y": null,
      "padding": null,
      "right": null,
      "top": null,
      "visibility": null,
      "width": null
     }
    },
    "d910b2688a9747b6943202d5562cc2fd": {
     "model_module": "@jupyter-widgets/base",
     "model_name": "LayoutModel",
     "state": {
      "_model_module": "@jupyter-widgets/base",
      "_model_module_version": "1.2.0",
      "_model_name": "LayoutModel",
      "_view_count": null,
      "_view_module": "@jupyter-widgets/base",
      "_view_module_version": "1.2.0",
      "_view_name": "LayoutView",
      "align_content": null,
      "align_items": null,
      "align_self": null,
      "border": null,
      "bottom": null,
      "display": null,
      "flex": null,
      "flex_flow": null,
      "grid_area": null,
      "grid_auto_columns": null,
      "grid_auto_flow": null,
      "grid_auto_rows": null,
      "grid_column": null,
      "grid_gap": null,
      "grid_row": null,
      "grid_template_areas": null,
      "grid_template_columns": null,
      "grid_template_rows": null,
      "height": null,
      "justify_content": null,
      "justify_items": null,
      "left": null,
      "margin": null,
      "max_height": null,
      "max_width": null,
      "min_height": null,
      "min_width": null,
      "object_fit": null,
      "object_position": null,
      "order": null,
      "overflow": null,
      "overflow_x": null,
      "overflow_y": null,
      "padding": null,
      "right": null,
      "top": null,
      "visibility": null,
      "width": null
     }
    },
    "eaad08dab8b244d4b26e2317f12b26e0": {
     "model_module": "@jupyter-widgets/output",
     "model_name": "OutputModel",
     "state": {
      "_dom_classes": [],
      "_model_module": "@jupyter-widgets/output",
      "_model_module_version": "1.0.0",
      "_model_name": "OutputModel",
      "_view_count": null,
      "_view_module": "@jupyter-widgets/output",
      "_view_module_version": "1.0.0",
      "_view_name": "OutputView",
      "layout": "IPY_MODEL_58ee041ecc494dd5ae8cb3244e9432aa",
      "msg_id": "",
      "outputs": [
       {
        "image/png": "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\n",
        "metadata": {
         "needs_background": "light",
         "tags": []
        },
        "output_type": "display_data",
        "text/plain": "<Figure size 432x288 with 1 Axes>"
       }
      ]
     }
    }
   }
  }
 },
 "nbformat": 4,
 "nbformat_minor": 1
}
